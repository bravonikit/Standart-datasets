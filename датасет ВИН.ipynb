{
 "cells": [
  {
   "cell_type": "code",
   "execution_count": 3,
   "metadata": {},
   "outputs": [
    {
     "data": {
      "text/html": [
       "<div>\n",
       "<style scoped>\n",
       "    .dataframe tbody tr th:only-of-type {\n",
       "        vertical-align: middle;\n",
       "    }\n",
       "\n",
       "    .dataframe tbody tr th {\n",
       "        vertical-align: top;\n",
       "    }\n",
       "\n",
       "    .dataframe thead th {\n",
       "        text-align: right;\n",
       "    }\n",
       "</style>\n",
       "<table border=\"1\" class=\"dataframe\">\n",
       "  <thead>\n",
       "    <tr style=\"text-align: right;\">\n",
       "      <th></th>\n",
       "      <th>0</th>\n",
       "      <th>1</th>\n",
       "      <th>2</th>\n",
       "      <th>3</th>\n",
       "      <th>4</th>\n",
       "      <th>5</th>\n",
       "      <th>6</th>\n",
       "      <th>7</th>\n",
       "      <th>8</th>\n",
       "      <th>9</th>\n",
       "      <th>10</th>\n",
       "      <th>11</th>\n",
       "      <th>12</th>\n",
       "      <th>13</th>\n",
       "    </tr>\n",
       "  </thead>\n",
       "  <tbody>\n",
       "    <tr>\n",
       "      <th>0</th>\n",
       "      <td>1</td>\n",
       "      <td>14.23</td>\n",
       "      <td>1.71</td>\n",
       "      <td>2.43</td>\n",
       "      <td>15.6</td>\n",
       "      <td>127</td>\n",
       "      <td>2.80</td>\n",
       "      <td>3.06</td>\n",
       "      <td>0.28</td>\n",
       "      <td>2.29</td>\n",
       "      <td>5.64</td>\n",
       "      <td>1.04</td>\n",
       "      <td>3.92</td>\n",
       "      <td>1065</td>\n",
       "    </tr>\n",
       "    <tr>\n",
       "      <th>1</th>\n",
       "      <td>1</td>\n",
       "      <td>13.20</td>\n",
       "      <td>1.78</td>\n",
       "      <td>2.14</td>\n",
       "      <td>11.2</td>\n",
       "      <td>100</td>\n",
       "      <td>2.65</td>\n",
       "      <td>2.76</td>\n",
       "      <td>0.26</td>\n",
       "      <td>1.28</td>\n",
       "      <td>4.38</td>\n",
       "      <td>1.05</td>\n",
       "      <td>3.40</td>\n",
       "      <td>1050</td>\n",
       "    </tr>\n",
       "    <tr>\n",
       "      <th>2</th>\n",
       "      <td>1</td>\n",
       "      <td>13.16</td>\n",
       "      <td>2.36</td>\n",
       "      <td>2.67</td>\n",
       "      <td>18.6</td>\n",
       "      <td>101</td>\n",
       "      <td>2.80</td>\n",
       "      <td>3.24</td>\n",
       "      <td>0.30</td>\n",
       "      <td>2.81</td>\n",
       "      <td>5.68</td>\n",
       "      <td>1.03</td>\n",
       "      <td>3.17</td>\n",
       "      <td>1185</td>\n",
       "    </tr>\n",
       "    <tr>\n",
       "      <th>3</th>\n",
       "      <td>1</td>\n",
       "      <td>14.37</td>\n",
       "      <td>1.95</td>\n",
       "      <td>2.50</td>\n",
       "      <td>16.8</td>\n",
       "      <td>113</td>\n",
       "      <td>3.85</td>\n",
       "      <td>3.49</td>\n",
       "      <td>0.24</td>\n",
       "      <td>2.18</td>\n",
       "      <td>7.80</td>\n",
       "      <td>0.86</td>\n",
       "      <td>3.45</td>\n",
       "      <td>1480</td>\n",
       "    </tr>\n",
       "    <tr>\n",
       "      <th>4</th>\n",
       "      <td>1</td>\n",
       "      <td>13.24</td>\n",
       "      <td>2.59</td>\n",
       "      <td>2.87</td>\n",
       "      <td>21.0</td>\n",
       "      <td>118</td>\n",
       "      <td>2.80</td>\n",
       "      <td>2.69</td>\n",
       "      <td>0.39</td>\n",
       "      <td>1.82</td>\n",
       "      <td>4.32</td>\n",
       "      <td>1.04</td>\n",
       "      <td>2.93</td>\n",
       "      <td>735</td>\n",
       "    </tr>\n",
       "  </tbody>\n",
       "</table>\n",
       "</div>"
      ],
      "text/plain": [
       "   0      1     2     3     4    5     6     7     8     9     10    11    12  \\\n",
       "0   1  14.23  1.71  2.43  15.6  127  2.80  3.06  0.28  2.29  5.64  1.04  3.92   \n",
       "1   1  13.20  1.78  2.14  11.2  100  2.65  2.76  0.26  1.28  4.38  1.05  3.40   \n",
       "2   1  13.16  2.36  2.67  18.6  101  2.80  3.24  0.30  2.81  5.68  1.03  3.17   \n",
       "3   1  14.37  1.95  2.50  16.8  113  3.85  3.49  0.24  2.18  7.80  0.86  3.45   \n",
       "4   1  13.24  2.59  2.87  21.0  118  2.80  2.69  0.39  1.82  4.32  1.04  2.93   \n",
       "\n",
       "     13  \n",
       "0  1065  \n",
       "1  1050  \n",
       "2  1185  \n",
       "3  1480  \n",
       "4   735  "
      ]
     },
     "execution_count": 3,
     "metadata": {},
     "output_type": "execute_result"
    }
   ],
   "source": [
    "import pandas as pd\n",
    "import numpy as np\n",
    "url = 'https://archive.ics.uci.edu/ml/machine-learning-databases/wine/wine.data'\n",
    "wine =pd.read_csv(url, header = None)\n",
    "wine.head()"
   ]
  },
  {
   "cell_type": "code",
   "execution_count": null,
   "metadata": {},
   "outputs": [],
   "source": []
  },
  {
   "cell_type": "code",
   "execution_count": 4,
   "metadata": {},
   "outputs": [],
   "source": [
    "wine.columns = ['Метка класса', \"Алкоголь\", \"Яблочная кислота\" , \"Зола\", \"Щелочность золы\", \"Магний\", \"Всего фенола\" , \"Флаваноиды\", \"Фенолы нефлаваноидные\", \"Проантоцианины\", \"Интенсивность цвета\",\"Оттенок\", \"Разбавленность вин\", \"Пролин\"]"
   ]
  },
  {
   "cell_type": "code",
   "execution_count": 5,
   "metadata": {},
   "outputs": [
    {
     "data": {
      "text/html": [
       "<div>\n",
       "<style scoped>\n",
       "    .dataframe tbody tr th:only-of-type {\n",
       "        vertical-align: middle;\n",
       "    }\n",
       "\n",
       "    .dataframe tbody tr th {\n",
       "        vertical-align: top;\n",
       "    }\n",
       "\n",
       "    .dataframe thead th {\n",
       "        text-align: right;\n",
       "    }\n",
       "</style>\n",
       "<table border=\"1\" class=\"dataframe\">\n",
       "  <thead>\n",
       "    <tr style=\"text-align: right;\">\n",
       "      <th></th>\n",
       "      <th>Метка класса</th>\n",
       "      <th>Алкоголь</th>\n",
       "      <th>Яблочная кислота</th>\n",
       "      <th>Зола</th>\n",
       "      <th>Щелочность золы</th>\n",
       "      <th>Магний</th>\n",
       "      <th>Всего фенола</th>\n",
       "      <th>Флаваноиды</th>\n",
       "      <th>Фенолы нефлаваноидные</th>\n",
       "      <th>Проантоцианины</th>\n",
       "      <th>Интенсивность цвета</th>\n",
       "      <th>Оттенок</th>\n",
       "      <th>Разбавленность вин</th>\n",
       "      <th>Пролин</th>\n",
       "    </tr>\n",
       "  </thead>\n",
       "  <tbody>\n",
       "    <tr>\n",
       "      <th>173</th>\n",
       "      <td>3</td>\n",
       "      <td>13.71</td>\n",
       "      <td>5.65</td>\n",
       "      <td>2.45</td>\n",
       "      <td>20.5</td>\n",
       "      <td>95</td>\n",
       "      <td>1.68</td>\n",
       "      <td>0.61</td>\n",
       "      <td>0.52</td>\n",
       "      <td>1.06</td>\n",
       "      <td>7.7</td>\n",
       "      <td>0.64</td>\n",
       "      <td>1.74</td>\n",
       "      <td>740</td>\n",
       "    </tr>\n",
       "    <tr>\n",
       "      <th>174</th>\n",
       "      <td>3</td>\n",
       "      <td>13.40</td>\n",
       "      <td>3.91</td>\n",
       "      <td>2.48</td>\n",
       "      <td>23.0</td>\n",
       "      <td>102</td>\n",
       "      <td>1.80</td>\n",
       "      <td>0.75</td>\n",
       "      <td>0.43</td>\n",
       "      <td>1.41</td>\n",
       "      <td>7.3</td>\n",
       "      <td>0.70</td>\n",
       "      <td>1.56</td>\n",
       "      <td>750</td>\n",
       "    </tr>\n",
       "    <tr>\n",
       "      <th>175</th>\n",
       "      <td>3</td>\n",
       "      <td>13.27</td>\n",
       "      <td>4.28</td>\n",
       "      <td>2.26</td>\n",
       "      <td>20.0</td>\n",
       "      <td>120</td>\n",
       "      <td>1.59</td>\n",
       "      <td>0.69</td>\n",
       "      <td>0.43</td>\n",
       "      <td>1.35</td>\n",
       "      <td>10.2</td>\n",
       "      <td>0.59</td>\n",
       "      <td>1.56</td>\n",
       "      <td>835</td>\n",
       "    </tr>\n",
       "    <tr>\n",
       "      <th>176</th>\n",
       "      <td>3</td>\n",
       "      <td>13.17</td>\n",
       "      <td>2.59</td>\n",
       "      <td>2.37</td>\n",
       "      <td>20.0</td>\n",
       "      <td>120</td>\n",
       "      <td>1.65</td>\n",
       "      <td>0.68</td>\n",
       "      <td>0.53</td>\n",
       "      <td>1.46</td>\n",
       "      <td>9.3</td>\n",
       "      <td>0.60</td>\n",
       "      <td>1.62</td>\n",
       "      <td>840</td>\n",
       "    </tr>\n",
       "    <tr>\n",
       "      <th>177</th>\n",
       "      <td>3</td>\n",
       "      <td>14.13</td>\n",
       "      <td>4.10</td>\n",
       "      <td>2.74</td>\n",
       "      <td>24.5</td>\n",
       "      <td>96</td>\n",
       "      <td>2.05</td>\n",
       "      <td>0.76</td>\n",
       "      <td>0.56</td>\n",
       "      <td>1.35</td>\n",
       "      <td>9.2</td>\n",
       "      <td>0.61</td>\n",
       "      <td>1.60</td>\n",
       "      <td>560</td>\n",
       "    </tr>\n",
       "  </tbody>\n",
       "</table>\n",
       "</div>"
      ],
      "text/plain": [
       "     Метка класса  Алкоголь  Яблочная кислота  Зола  Щелочность золы  Магний  \\\n",
       "173             3     13.71              5.65  2.45             20.5      95   \n",
       "174             3     13.40              3.91  2.48             23.0     102   \n",
       "175             3     13.27              4.28  2.26             20.0     120   \n",
       "176             3     13.17              2.59  2.37             20.0     120   \n",
       "177             3     14.13              4.10  2.74             24.5      96   \n",
       "\n",
       "     Всего фенола  Флаваноиды  Фенолы нефлаваноидные  Проантоцианины  \\\n",
       "173          1.68        0.61                   0.52            1.06   \n",
       "174          1.80        0.75                   0.43            1.41   \n",
       "175          1.59        0.69                   0.43            1.35   \n",
       "176          1.65        0.68                   0.53            1.46   \n",
       "177          2.05        0.76                   0.56            1.35   \n",
       "\n",
       "     Интенсивность цвета  Оттенок  Разбавленность вин  Пролин  \n",
       "173                  7.7     0.64                1.74     740  \n",
       "174                  7.3     0.70                1.56     750  \n",
       "175                 10.2     0.59                1.56     835  \n",
       "176                  9.3     0.60                1.62     840  \n",
       "177                  9.2     0.61                1.60     560  "
      ]
     },
     "execution_count": 5,
     "metadata": {},
     "output_type": "execute_result"
    }
   ],
   "source": [
    "wine.tail()"
   ]
  },
  {
   "cell_type": "code",
   "execution_count": 6,
   "metadata": {},
   "outputs": [],
   "source": [
    "from sklearn.model_selection import train_test_split\n",
    "X, y = wine.iloc[:,1:].values , wine.iloc[:, 0].values\n",
    "X_train, X_test , y_train, y_test = train_test_split(X,y, test_size = 0.3, random_state = 0)"
   ]
  },
  {
   "cell_type": "code",
   "execution_count": 7,
   "metadata": {},
   "outputs": [
    {
     "name": "stdout",
     "output_type": "stream",
     "text": [
      "[[0.72043011 0.20378151 0.53763441 ... 0.48717949 1.         0.5854251 ]\n",
      " [0.31989247 0.08403361 0.31182796 ... 0.27350427 0.64102564 0.        ]\n",
      " [0.60215054 0.71218487 0.48387097 ... 0.04273504 0.10622711 0.42348178]\n",
      " ...\n",
      " [0.37365591 0.1512605  0.44623656 ... 0.44444444 0.61904762 0.02672065]\n",
      " [0.77150538 0.16596639 0.40860215 ... 0.31623932 0.75457875 0.54493927]\n",
      " [0.84139785 0.34033613 0.60215054 ... 0.06837607 0.16117216 0.28178138]]\n"
     ]
    }
   ],
   "source": [
    "from sklearn.preprocessing import MinMaxScaler\n",
    "mms = MinMaxScaler()\n",
    "X_train_norm = mms.fit_transform(X_train)\n",
    "X_test_norm = mms.transform(X_test)\n",
    "print(X_train_norm)"
   ]
  },
  {
   "cell_type": "code",
   "execution_count": 8,
   "metadata": {},
   "outputs": [],
   "source": [
    "from sklearn.preprocessing import StandardScaler\n",
    "std = StandardScaler()\n",
    "X_train_std = std.fit_transform(X_train)\n",
    "X_test_std = std.transform(X_test)"
   ]
  },
  {
   "cell_type": "code",
   "execution_count": 9,
   "metadata": {},
   "outputs": [
    {
     "name": "stdout",
     "output_type": "stream",
     "text": [
      "без обработки на тренировочной выборке: 0.9919354838709677\n",
      "без обработки на тестовой выборке: 0.9444444444444444\n",
      "cтандартизация на тренировочной выборке: 0.9919354838709677\n",
      "стандартизация на тестовой выборке: 1.0\n",
      "[[ 1.2809881   0.21413693  0.66214968 -1.24887132  0.          0.\n",
      "   0.94551552  0.          0.          0.          0.          0.97083504\n",
      "   2.0598171 ]\n",
      " [-0.93592167 -0.58336515 -0.93524405  0.46576856  0.          0.\n",
      "   0.          0.03962881  0.49350265 -2.45368966  1.01665797  0.\n",
      "  -2.17702058]\n",
      " [ 0.          0.20617003  0.35278086  0.          0.          0.\n",
      "  -2.10537025  0.          0.          1.99723242 -0.6572527  -0.89501221\n",
      "   0.        ]]\n",
      "нормализация на тренировочной выборке: 0.9838709677419355\n",
      "нормализация на тестовой выборке: 0.9814814814814815\n",
      "[[ 1.06450622  0.          0.         -2.84264394  0.          0.\n",
      "   3.7002264   0.          0.          0.          0.          0.\n",
      "   6.01108628]\n",
      " [-2.55995127 -0.6972063   0.          0.          0.          0.\n",
      "   0.          0.          0.50021012 -5.77320632  3.16131706  0.21915718\n",
      "  -4.72110125]\n",
      " [ 0.          1.33986782  0.          0.          0.          0.\n",
      "  -5.52098618  0.          0.          4.53693871  0.         -3.24696295\n",
      "   0.        ]]\n"
     ]
    }
   ],
   "source": [
    "from sklearn.linear_model import LogisticRegression\n",
    "lr = LogisticRegression(solver = \"liblinear\", penalty = 'l1', C = 1)\n",
    "begin = lr.fit(X_train,y_train)\n",
    "print(\"без обработки на тренировочной выборке:\" , lr.score(X_train, y_train))\n",
    "print(\"без обработки на тестовой выборке:\" ,lr.score(X_test, y_test))\n",
    "\n",
    "std = lr.fit(X_train_std,y_train)\n",
    "print(\"cтандартизация на тренировочной выборке:\" ,lr.score(X_train_std, y_train))\n",
    "print(\"стандартизация на тестовой выборке:\", lr.score(X_test_std, y_test))\n",
    "print(lr.coef_)\n",
    "norm = lr.fit(X_train_norm,y_train)\n",
    "print(\"нормализация на тренировочной выборке:\", lr.score(X_train_norm, y_train))\n",
    "print(\"нормализация на тестовой выборке:\" ,lr.score(X_test_norm, y_test))\n",
    "print(lr.coef_)"
   ]
  },
  {
   "cell_type": "code",
   "execution_count": 10,
   "metadata": {},
   "outputs": [
    {
     "data": {
      "text/plain": [
       "<matplotlib.lines.Line2D at 0xa93d028>"
      ]
     },
     "execution_count": 10,
     "metadata": {},
     "output_type": "execute_result"
    },
    {
     "data": {
      "image/png": "[encoded data removed]",
      "text/plain": [
       "<Figure size 432x288 with 1 Axes>"
      ]
     },
     "metadata": {
      "needs_background": "light"
     },
     "output_type": "display_data"
    }
   ],
   "source": [
    "import matplotlib.pyplot as plt\n",
    "fig = plt.figure()\n",
    "ax = plt.subplot(111)\n",
    "\n",
    "colors = ['blue', 'red' , 'green' , 'yellow', 'pink', 'grey', 'lightblue', 'orange', 'purple', 'cyan', 'magenta', 'indigo','lightgreen']\n",
    "weights, params = [], []\n",
    "for c in range(-4,6):\n",
    "    lr = LogisticRegression(solver = \"liblinear\", penalty = 'l1', C = 10**c)\n",
    "    lr.fit(X_train_std, y_train,)\n",
    "    weights.append(lr.coef_[1])\n",
    "    params.append(10**c)\n",
    "\n",
    "weights=np.array(weights)\n",
    "for column, color in zip(range(weights.shape[1]),colors):\n",
    "    plt.plot(params, weights[:,column], label = wine.columns[column+1],color= color)\n",
    "\n",
    "    \n",
    "    \n",
    "plt.xlabel('C')\n",
    "plt.ylabel('веса')\n",
    "plt.xscale(\"log\")\n",
    "plt.xlim([10**-4,10**5])\n",
    "plt.axhline(0, linestyle = \":\",color = 'black', linewidth = '3')"
   ]
  },
  {
   "cell_type": "code",
   "execution_count": 11,
   "metadata": {},
   "outputs": [
    {
     "name": "stdout",
     "output_type": "stream",
     "text": [
      "1 )   Интенсивность цвета 0.18357544499270495\n",
      "2 )   Пролин 0.15556185754690124\n",
      "3 )   Флаваноиды 0.15150125153339236\n",
      "4 )   Разбавленность вин 0.13233630340700608\n",
      "5 )   Алкоголь 0.10666829133102335\n",
      "6 )   Оттенок 0.07655989262167161\n",
      "7 )   Всего фенола 0.062484939930426316\n",
      "8 )   Щелочность золы 0.033813197884583715\n",
      "9 )   Яблочная кислота 0.02407057509042913\n",
      "10 )   Магний 0.0231039447986067\n",
      "11 )   Проантоцианины 0.022328684182280296\n",
      "12 )   Зола 0.014430698247120574\n",
      "13 )   Фенолы нефлаваноидные 0.013564918433853629\n"
     ]
    }
   ],
   "source": [
    "from sklearn.ensemble import RandomForestClassifier\n",
    "wine.columns = ['Метка класса', \"Алкоголь\", \"Яблочная кислота\" , \"Зола\", \"Щелочность золы\", \"Магний\", \"Всего фенола\" , \"Флаваноиды\", \"Фенолы нефлаваноидные\", \"Проантоцианины\", \"Интенсивность цвета\",\"Оттенок\", \"Разбавленность вин\", \"Пролин\"]\n",
    "labels = wine.columns[1:]\n",
    "forest = RandomForestClassifier(n_estimators = 10000, n_jobs = -1)\n",
    "forest.fit(X_train, y_train)\n",
    "importances = forest.feature_importances_\n",
    "indeces = np.argsort(importances)[::-1]\n",
    "for f in range(X_train.shape[1]):\n",
    "    print (f+1,\")  \", labels[indeces[f]]  , importances[indeces[f]])\n"
   ]
  },
  {
   "cell_type": "code",
   "execution_count": 12,
   "metadata": {},
   "outputs": [
    {
     "data": {
      "image/png": "[encoded data removed]",
      "text/plain": [
       "<Figure size 432x288 with 1 Axes>"
      ]
     },
     "metadata": {
      "needs_background": "light"
     },
     "output_type": "display_data"
    }
   ],
   "source": [
    "plt.bar(range(X_train.shape[1]), importances[indeces],color = \"lightBlue\")\n",
    "plt.xticks(range(X_train.shape[1]),labels[indeces] , rotation = 90)\n",
    "plt.axhline(0.1,linestyle = \"--\", color = 'blue', linewidth = '1')\n",
    "plt.axhline(0.15,linestyle = \"--\", color = 'red', linewidth = '1')\n",
    "plt.tight_layout()"
   ]
  },
  {
   "cell_type": "code",
   "execution_count": 119,
   "metadata": {},
   "outputs": [
    {
     "name": "stderr",
     "output_type": "stream",
     "text": [
      "C:\\Users\\User\\anaconda3\\lib\\site-packages\\sklearn\\tree\\_classes.py:306: FutureWarning: The min_impurity_split parameter is deprecated. Its default value has changed from 1e-7 to 0 in version 0.23, and it will be removed in 0.25. Use the min_impurity_decrease parameter instead.\n",
      "  warnings.warn(\"The min_impurity_split parameter is deprecated. \"\n",
      "C:\\Users\\User\\anaconda3\\lib\\site-packages\\sklearn\\tree\\_classes.py:306: FutureWarning: The min_impurity_split parameter is deprecated. Its default value has changed from 1e-7 to 0 in version 0.23, and it will be removed in 0.25. Use the min_impurity_decrease parameter instead.\n",
      "  warnings.warn(\"The min_impurity_split parameter is deprecated. \"\n",
      "C:\\Users\\User\\anaconda3\\lib\\site-packages\\sklearn\\tree\\_classes.py:306: FutureWarning: The min_impurity_split parameter is deprecated. Its default value has changed from 1e-7 to 0 in version 0.23, and it will be removed in 0.25. Use the min_impurity_decrease parameter instead.\n",
      "  warnings.warn(\"The min_impurity_split parameter is deprecated. \"\n",
      "C:\\Users\\User\\anaconda3\\lib\\site-packages\\sklearn\\tree\\_classes.py:306: FutureWarning: The min_impurity_split parameter is deprecated. Its default value has changed from 1e-7 to 0 in version 0.23, and it will be removed in 0.25. Use the min_impurity_decrease parameter instead.\n",
      "  warnings.warn(\"The min_impurity_split parameter is deprecated. \"\n",
      "C:\\Users\\User\\anaconda3\\lib\\site-packages\\sklearn\\tree\\_classes.py:306: FutureWarning: The min_impurity_split parameter is deprecated. Its default value has changed from 1e-7 to 0 in version 0.23, and it will be removed in 0.25. Use the min_impurity_decrease parameter instead.\n",
      "  warnings.warn(\"The min_impurity_split parameter is deprecated. \"\n",
      "C:\\Users\\User\\anaconda3\\lib\\site-packages\\sklearn\\tree\\_classes.py:306: FutureWarning: The min_impurity_split parameter is deprecated. Its default value has changed from 1e-7 to 0 in version 0.23, and it will be removed in 0.25. Use the min_impurity_decrease parameter instead.\n",
      "  warnings.warn(\"The min_impurity_split parameter is deprecated. \"\n",
      "C:\\Users\\User\\anaconda3\\lib\\site-packages\\sklearn\\tree\\_classes.py:306: FutureWarning: The min_impurity_split parameter is deprecated. Its default value has changed from 1e-7 to 0 in version 0.23, and it will be removed in 0.25. Use the min_impurity_decrease parameter instead.\n",
      "  warnings.warn(\"The min_impurity_split parameter is deprecated. \"\n",
      "C:\\Users\\User\\anaconda3\\lib\\site-packages\\sklearn\\tree\\_classes.py:306: FutureWarning: The min_impurity_split parameter is deprecated. Its default value has changed from 1e-7 to 0 in version 0.23, and it will be removed in 0.25. Use the min_impurity_decrease parameter instead.\n",
      "  warnings.warn(\"The min_impurity_split parameter is deprecated. \"\n",
      "C:\\Users\\User\\anaconda3\\lib\\site-packages\\sklearn\\tree\\_classes.py:306: FutureWarning: The min_impurity_split parameter is deprecated. Its default value has changed from 1e-7 to 0 in version 0.23, and it will be removed in 0.25. Use the min_impurity_decrease parameter instead.\n",
      "  warnings.warn(\"The min_impurity_split parameter is deprecated. \"\n",
      "C:\\Users\\User\\anaconda3\\lib\\site-packages\\sklearn\\tree\\_classes.py:306: FutureWarning: The min_impurity_split parameter is deprecated. Its default value has changed from 1e-7 to 0 in version 0.23, and it will be removed in 0.25. Use the min_impurity_decrease parameter instead.\n",
      "  warnings.warn(\"The min_impurity_split parameter is deprecated. \"\n",
      "C:\\Users\\User\\anaconda3\\lib\\site-packages\\sklearn\\tree\\_classes.py:306: FutureWarning: The min_impurity_split parameter is deprecated. Its default value has changed from 1e-7 to 0 in version 0.23, and it will be removed in 0.25. Use the min_impurity_decrease parameter instead.\n",
      "  warnings.warn(\"The min_impurity_split parameter is deprecated. \"\n",
      "C:\\Users\\User\\anaconda3\\lib\\site-packages\\sklearn\\tree\\_classes.py:306: FutureWarning: The min_impurity_split parameter is deprecated. Its default value has changed from 1e-7 to 0 in version 0.23, and it will be removed in 0.25. Use the min_impurity_decrease parameter instead.\n",
      "  warnings.warn(\"The min_impurity_split parameter is deprecated. \"\n",
      "C:\\Users\\User\\anaconda3\\lib\\site-packages\\sklearn\\tree\\_classes.py:306: FutureWarning: The min_impurity_split parameter is deprecated. Its default value has changed from 1e-7 to 0 in version 0.23, and it will be removed in 0.25. Use the min_impurity_decrease parameter instead.\n",
      "  warnings.warn(\"The min_impurity_split parameter is deprecated. \"\n",
      "C:\\Users\\User\\anaconda3\\lib\\site-packages\\sklearn\\tree\\_classes.py:306: FutureWarning: The min_impurity_split parameter is deprecated. Its default value has changed from 1e-7 to 0 in version 0.23, and it will be removed in 0.25. Use the min_impurity_decrease parameter instead.\n",
      "  warnings.warn(\"The min_impurity_split parameter is deprecated. \"\n",
      "C:\\Users\\User\\anaconda3\\lib\\site-packages\\sklearn\\tree\\_classes.py:306: FutureWarning: The min_impurity_split parameter is deprecated. Its default value has changed from 1e-7 to 0 in version 0.23, and it will be removed in 0.25. Use the min_impurity_decrease parameter instead.\n",
      "  warnings.warn(\"The min_impurity_split parameter is deprecated. \"\n",
      "C:\\Users\\User\\anaconda3\\lib\\site-packages\\sklearn\\tree\\_classes.py:306: FutureWarning: The min_impurity_split parameter is deprecated. Its default value has changed from 1e-7 to 0 in version 0.23, and it will be removed in 0.25. Use the min_impurity_decrease parameter instead.\n",
      "  warnings.warn(\"The min_impurity_split parameter is deprecated. \"\n",
      "C:\\Users\\User\\anaconda3\\lib\\site-packages\\sklearn\\tree\\_classes.py:306: FutureWarning: The min_impurity_split parameter is deprecated. Its default value has changed from 1e-7 to 0 in version 0.23, and it will be removed in 0.25. Use the min_impurity_decrease parameter instead.\n",
      "  warnings.warn(\"The min_impurity_split parameter is deprecated. \"\n",
      "C:\\Users\\User\\anaconda3\\lib\\site-packages\\sklearn\\tree\\_classes.py:306: FutureWarning: The min_impurity_split parameter is deprecated. Its default value has changed from 1e-7 to 0 in version 0.23, and it will be removed in 0.25. Use the min_impurity_decrease parameter instead.\n",
      "  warnings.warn(\"The min_impurity_split parameter is deprecated. \"\n",
      "C:\\Users\\User\\anaconda3\\lib\\site-packages\\sklearn\\tree\\_classes.py:306: FutureWarning: The min_impurity_split parameter is deprecated. Its default value has changed from 1e-7 to 0 in version 0.23, and it will be removed in 0.25. Use the min_impurity_decrease parameter instead.\n",
      "  warnings.warn(\"The min_impurity_split parameter is deprecated. \"\n",
      "C:\\Users\\User\\anaconda3\\lib\\site-packages\\sklearn\\tree\\_classes.py:306: FutureWarning: The min_impurity_split parameter is deprecated. Its default value has changed from 1e-7 to 0 in version 0.23, and it will be removed in 0.25. Use the min_impurity_decrease parameter instead.\n",
      "  warnings.warn(\"The min_impurity_split parameter is deprecated. \"\n",
      "C:\\Users\\User\\anaconda3\\lib\\site-packages\\sklearn\\tree\\_classes.py:306: FutureWarning: The min_impurity_split parameter is deprecated. Its default value has changed from 1e-7 to 0 in version 0.23, and it will be removed in 0.25. Use the min_impurity_decrease parameter instead.\n",
      "  warnings.warn(\"The min_impurity_split parameter is deprecated. \"\n",
      "C:\\Users\\User\\anaconda3\\lib\\site-packages\\sklearn\\tree\\_classes.py:306: FutureWarning: The min_impurity_split parameter is deprecated. Its default value has changed from 1e-7 to 0 in version 0.23, and it will be removed in 0.25. Use the min_impurity_decrease parameter instead.\n",
      "  warnings.warn(\"The min_impurity_split parameter is deprecated. \"\n",
      "C:\\Users\\User\\anaconda3\\lib\\site-packages\\sklearn\\tree\\_classes.py:306: FutureWarning: The min_impurity_split parameter is deprecated. Its default value has changed from 1e-7 to 0 in version 0.23, and it will be removed in 0.25. Use the min_impurity_decrease parameter instead.\n",
      "  warnings.warn(\"The min_impurity_split parameter is deprecated. \"\n",
      "C:\\Users\\User\\anaconda3\\lib\\site-packages\\sklearn\\tree\\_classes.py:306: FutureWarning: The min_impurity_split parameter is deprecated. Its default value has changed from 1e-7 to 0 in version 0.23, and it will be removed in 0.25. Use the min_impurity_decrease parameter instead.\n",
      "  warnings.warn(\"The min_impurity_split parameter is deprecated. \"\n",
      "C:\\Users\\User\\anaconda3\\lib\\site-packages\\sklearn\\tree\\_classes.py:306: FutureWarning: The min_impurity_split parameter is deprecated. Its default value has changed from 1e-7 to 0 in version 0.23, and it will be removed in 0.25. Use the min_impurity_decrease parameter instead.\n",
      "  warnings.warn(\"The min_impurity_split parameter is deprecated. \"\n",
      "C:\\Users\\User\\anaconda3\\lib\\site-packages\\sklearn\\tree\\_classes.py:306: FutureWarning: The min_impurity_split parameter is deprecated. Its default value has changed from 1e-7 to 0 in version 0.23, and it will be removed in 0.25. Use the min_impurity_decrease parameter instead.\n",
      "  warnings.warn(\"The min_impurity_split parameter is deprecated. \"\n",
      "C:\\Users\\User\\anaconda3\\lib\\site-packages\\sklearn\\tree\\_classes.py:306: FutureWarning: The min_impurity_split parameter is deprecated. Its default value has changed from 1e-7 to 0 in version 0.23, and it will be removed in 0.25. Use the min_impurity_decrease parameter instead.\n",
      "  warnings.warn(\"The min_impurity_split parameter is deprecated. \"\n",
      "C:\\Users\\User\\anaconda3\\lib\\site-packages\\sklearn\\tree\\_classes.py:306: FutureWarning: The min_impurity_split parameter is deprecated. Its default value has changed from 1e-7 to 0 in version 0.23, and it will be removed in 0.25. Use the min_impurity_decrease parameter instead.\n",
      "  warnings.warn(\"The min_impurity_split parameter is deprecated. \"\n",
      "C:\\Users\\User\\anaconda3\\lib\\site-packages\\sklearn\\tree\\_classes.py:306: FutureWarning: The min_impurity_split parameter is deprecated. Its default value has changed from 1e-7 to 0 in version 0.23, and it will be removed in 0.25. Use the min_impurity_decrease parameter instead.\n",
      "  warnings.warn(\"The min_impurity_split parameter is deprecated. \"\n",
      "C:\\Users\\User\\anaconda3\\lib\\site-packages\\sklearn\\tree\\_classes.py:306: FutureWarning: The min_impurity_split parameter is deprecated. Its default value has changed from 1e-7 to 0 in version 0.23, and it will be removed in 0.25. Use the min_impurity_decrease parameter instead.\n",
      "  warnings.warn(\"The min_impurity_split parameter is deprecated. \"\n",
      "C:\\Users\\User\\anaconda3\\lib\\site-packages\\sklearn\\tree\\_classes.py:306: FutureWarning: The min_impurity_split parameter is deprecated. Its default value has changed from 1e-7 to 0 in version 0.23, and it will be removed in 0.25. Use the min_impurity_decrease parameter instead.\n",
      "  warnings.warn(\"The min_impurity_split parameter is deprecated. \"\n",
      "C:\\Users\\User\\anaconda3\\lib\\site-packages\\sklearn\\tree\\_classes.py:306: FutureWarning: The min_impurity_split parameter is deprecated. Its default value has changed from 1e-7 to 0 in version 0.23, and it will be removed in 0.25. Use the min_impurity_decrease parameter instead.\n",
      "  warnings.warn(\"The min_impurity_split parameter is deprecated. \"\n",
      "C:\\Users\\User\\anaconda3\\lib\\site-packages\\sklearn\\tree\\_classes.py:306: FutureWarning: The min_impurity_split parameter is deprecated. Its default value has changed from 1e-7 to 0 in version 0.23, and it will be removed in 0.25. Use the min_impurity_decrease parameter instead.\n",
      "  warnings.warn(\"The min_impurity_split parameter is deprecated. \"\n",
      "C:\\Users\\User\\anaconda3\\lib\\site-packages\\sklearn\\tree\\_classes.py:306: FutureWarning: The min_impurity_split parameter is deprecated. Its default value has changed from 1e-7 to 0 in version 0.23, and it will be removed in 0.25. Use the min_impurity_decrease parameter instead.\n",
      "  warnings.warn(\"The min_impurity_split parameter is deprecated. \"\n",
      "C:\\Users\\User\\anaconda3\\lib\\site-packages\\sklearn\\tree\\_classes.py:306: FutureWarning: The min_impurity_split parameter is deprecated. Its default value has changed from 1e-7 to 0 in version 0.23, and it will be removed in 0.25. Use the min_impurity_decrease parameter instead.\n",
      "  warnings.warn(\"The min_impurity_split parameter is deprecated. \"\n",
      "C:\\Users\\User\\anaconda3\\lib\\site-packages\\sklearn\\tree\\_classes.py:306: FutureWarning: The min_impurity_split parameter is deprecated. Its default value has changed from 1e-7 to 0 in version 0.23, and it will be removed in 0.25. Use the min_impurity_decrease parameter instead.\n",
      "  warnings.warn(\"The min_impurity_split parameter is deprecated. \"\n",
      "C:\\Users\\User\\anaconda3\\lib\\site-packages\\sklearn\\tree\\_classes.py:306: FutureWarning: The min_impurity_split parameter is deprecated. Its default value has changed from 1e-7 to 0 in version 0.23, and it will be removed in 0.25. Use the min_impurity_decrease parameter instead.\n",
      "  warnings.warn(\"The min_impurity_split parameter is deprecated. \"\n",
      "C:\\Users\\User\\anaconda3\\lib\\site-packages\\sklearn\\tree\\_classes.py:306: FutureWarning: The min_impurity_split parameter is deprecated. Its default value has changed from 1e-7 to 0 in version 0.23, and it will be removed in 0.25. Use the min_impurity_decrease parameter instead.\n",
      "  warnings.warn(\"The min_impurity_split parameter is deprecated. \"\n",
      "C:\\Users\\User\\anaconda3\\lib\\site-packages\\sklearn\\tree\\_classes.py:306: FutureWarning: The min_impurity_split parameter is deprecated. Its default value has changed from 1e-7 to 0 in version 0.23, and it will be removed in 0.25. Use the min_impurity_decrease parameter instead.\n",
      "  warnings.warn(\"The min_impurity_split parameter is deprecated. \"\n",
      "C:\\Users\\User\\anaconda3\\lib\\site-packages\\sklearn\\tree\\_classes.py:306: FutureWarning: The min_impurity_split parameter is deprecated. Its default value has changed from 1e-7 to 0 in version 0.23, and it will be removed in 0.25. Use the min_impurity_decrease parameter instead.\n",
      "  warnings.warn(\"The min_impurity_split parameter is deprecated. \"\n",
      "C:\\Users\\User\\anaconda3\\lib\\site-packages\\sklearn\\tree\\_classes.py:306: FutureWarning: The min_impurity_split parameter is deprecated. Its default value has changed from 1e-7 to 0 in version 0.23, and it will be removed in 0.25. Use the min_impurity_decrease parameter instead.\n",
      "  warnings.warn(\"The min_impurity_split parameter is deprecated. \"\n",
      "C:\\Users\\User\\anaconda3\\lib\\site-packages\\sklearn\\tree\\_classes.py:306: FutureWarning: The min_impurity_split parameter is deprecated. Its default value has changed from 1e-7 to 0 in version 0.23, and it will be removed in 0.25. Use the min_impurity_decrease parameter instead.\n",
      "  warnings.warn(\"The min_impurity_split parameter is deprecated. \"\n",
      "C:\\Users\\User\\anaconda3\\lib\\site-packages\\sklearn\\tree\\_classes.py:306: FutureWarning: The min_impurity_split parameter is deprecated. Its default value has changed from 1e-7 to 0 in version 0.23, and it will be removed in 0.25. Use the min_impurity_decrease parameter instead.\n",
      "  warnings.warn(\"The min_impurity_split parameter is deprecated. \"\n",
      "C:\\Users\\User\\anaconda3\\lib\\site-packages\\sklearn\\tree\\_classes.py:306: FutureWarning: The min_impurity_split parameter is deprecated. Its default value has changed from 1e-7 to 0 in version 0.23, and it will be removed in 0.25. Use the min_impurity_decrease parameter instead.\n",
      "  warnings.warn(\"The min_impurity_split parameter is deprecated. \"\n",
      "C:\\Users\\User\\anaconda3\\lib\\site-packages\\sklearn\\tree\\_classes.py:306: FutureWarning: The min_impurity_split parameter is deprecated. Its default value has changed from 1e-7 to 0 in version 0.23, and it will be removed in 0.25. Use the min_impurity_decrease parameter instead.\n",
      "  warnings.warn(\"The min_impurity_split parameter is deprecated. \"\n",
      "C:\\Users\\User\\anaconda3\\lib\\site-packages\\sklearn\\tree\\_classes.py:306: FutureWarning: The min_impurity_split parameter is deprecated. Its default value has changed from 1e-7 to 0 in version 0.23, and it will be removed in 0.25. Use the min_impurity_decrease parameter instead.\n",
      "  warnings.warn(\"The min_impurity_split parameter is deprecated. \"\n",
      "C:\\Users\\User\\anaconda3\\lib\\site-packages\\sklearn\\tree\\_classes.py:306: FutureWarning: The min_impurity_split parameter is deprecated. Its default value has changed from 1e-7 to 0 in version 0.23, and it will be removed in 0.25. Use the min_impurity_decrease parameter instead.\n",
      "  warnings.warn(\"The min_impurity_split parameter is deprecated. \"\n",
      "C:\\Users\\User\\anaconda3\\lib\\site-packages\\sklearn\\tree\\_classes.py:306: FutureWarning: The min_impurity_split parameter is deprecated. Its default value has changed from 1e-7 to 0 in version 0.23, and it will be removed in 0.25. Use the min_impurity_decrease parameter instead.\n",
      "  warnings.warn(\"The min_impurity_split parameter is deprecated. \"\n",
      "C:\\Users\\User\\anaconda3\\lib\\site-packages\\sklearn\\tree\\_classes.py:306: FutureWarning: The min_impurity_split parameter is deprecated. Its default value has changed from 1e-7 to 0 in version 0.23, and it will be removed in 0.25. Use the min_impurity_decrease parameter instead.\n",
      "  warnings.warn(\"The min_impurity_split parameter is deprecated. \"\n",
      "C:\\Users\\User\\anaconda3\\lib\\site-packages\\sklearn\\tree\\_classes.py:306: FutureWarning: The min_impurity_split parameter is deprecated. Its default value has changed from 1e-7 to 0 in version 0.23, and it will be removed in 0.25. Use the min_impurity_decrease parameter instead.\n",
      "  warnings.warn(\"The min_impurity_split parameter is deprecated. \"\n",
      "C:\\Users\\User\\anaconda3\\lib\\site-packages\\sklearn\\tree\\_classes.py:306: FutureWarning: The min_impurity_split parameter is deprecated. Its default value has changed from 1e-7 to 0 in version 0.23, and it will be removed in 0.25. Use the min_impurity_decrease parameter instead.\n",
      "  warnings.warn(\"The min_impurity_split parameter is deprecated. \"\n",
      "C:\\Users\\User\\anaconda3\\lib\\site-packages\\sklearn\\tree\\_classes.py:306: FutureWarning: The min_impurity_split parameter is deprecated. Its default value has changed from 1e-7 to 0 in version 0.23, and it will be removed in 0.25. Use the min_impurity_decrease parameter instead.\n",
      "  warnings.warn(\"The min_impurity_split parameter is deprecated. \"\n",
      "C:\\Users\\User\\anaconda3\\lib\\site-packages\\sklearn\\tree\\_classes.py:306: FutureWarning: The min_impurity_split parameter is deprecated. Its default value has changed from 1e-7 to 0 in version 0.23, and it will be removed in 0.25. Use the min_impurity_decrease parameter instead.\n",
      "  warnings.warn(\"The min_impurity_split parameter is deprecated. \"\n",
      "C:\\Users\\User\\anaconda3\\lib\\site-packages\\sklearn\\tree\\_classes.py:306: FutureWarning: The min_impurity_split parameter is deprecated. Its default value has changed from 1e-7 to 0 in version 0.23, and it will be removed in 0.25. Use the min_impurity_decrease parameter instead.\n",
      "  warnings.warn(\"The min_impurity_split parameter is deprecated. \"\n",
      "C:\\Users\\User\\anaconda3\\lib\\site-packages\\sklearn\\tree\\_classes.py:306: FutureWarning: The min_impurity_split parameter is deprecated. Its default value has changed from 1e-7 to 0 in version 0.23, and it will be removed in 0.25. Use the min_impurity_decrease parameter instead.\n",
      "  warnings.warn(\"The min_impurity_split parameter is deprecated. \"\n",
      "C:\\Users\\User\\anaconda3\\lib\\site-packages\\sklearn\\tree\\_classes.py:306: FutureWarning: The min_impurity_split parameter is deprecated. Its default value has changed from 1e-7 to 0 in version 0.23, and it will be removed in 0.25. Use the min_impurity_decrease parameter instead.\n",
      "  warnings.warn(\"The min_impurity_split parameter is deprecated. \"\n",
      "C:\\Users\\User\\anaconda3\\lib\\site-packages\\sklearn\\tree\\_classes.py:306: FutureWarning: The min_impurity_split parameter is deprecated. Its default value has changed from 1e-7 to 0 in version 0.23, and it will be removed in 0.25. Use the min_impurity_decrease parameter instead.\n",
      "  warnings.warn(\"The min_impurity_split parameter is deprecated. \"\n",
      "C:\\Users\\User\\anaconda3\\lib\\site-packages\\sklearn\\tree\\_classes.py:306: FutureWarning: The min_impurity_split parameter is deprecated. Its default value has changed from 1e-7 to 0 in version 0.23, and it will be removed in 0.25. Use the min_impurity_decrease parameter instead.\n",
      "  warnings.warn(\"The min_impurity_split parameter is deprecated. \"\n",
      "C:\\Users\\User\\anaconda3\\lib\\site-packages\\sklearn\\tree\\_classes.py:306: FutureWarning: The min_impurity_split parameter is deprecated. Its default value has changed from 1e-7 to 0 in version 0.23, and it will be removed in 0.25. Use the min_impurity_decrease parameter instead.\n",
      "  warnings.warn(\"The min_impurity_split parameter is deprecated. \"\n",
      "C:\\Users\\User\\anaconda3\\lib\\site-packages\\sklearn\\tree\\_classes.py:306: FutureWarning: The min_impurity_split parameter is deprecated. Its default value has changed from 1e-7 to 0 in version 0.23, and it will be removed in 0.25. Use the min_impurity_decrease parameter instead.\n",
      "  warnings.warn(\"The min_impurity_split parameter is deprecated. \"\n",
      "C:\\Users\\User\\anaconda3\\lib\\site-packages\\sklearn\\tree\\_classes.py:306: FutureWarning: The min_impurity_split parameter is deprecated. Its default value has changed from 1e-7 to 0 in version 0.23, and it will be removed in 0.25. Use the min_impurity_decrease parameter instead.\n",
      "  warnings.warn(\"The min_impurity_split parameter is deprecated. \"\n",
      "C:\\Users\\User\\anaconda3\\lib\\site-packages\\sklearn\\tree\\_classes.py:306: FutureWarning: The min_impurity_split parameter is deprecated. Its default value has changed from 1e-7 to 0 in version 0.23, and it will be removed in 0.25. Use the min_impurity_decrease parameter instead.\n",
      "  warnings.warn(\"The min_impurity_split parameter is deprecated. \"\n",
      "C:\\Users\\User\\anaconda3\\lib\\site-packages\\sklearn\\tree\\_classes.py:306: FutureWarning: The min_impurity_split parameter is deprecated. Its default value has changed from 1e-7 to 0 in version 0.23, and it will be removed in 0.25. Use the min_impurity_decrease parameter instead.\n",
      "  warnings.warn(\"The min_impurity_split parameter is deprecated. \"\n",
      "C:\\Users\\User\\anaconda3\\lib\\site-packages\\sklearn\\tree\\_classes.py:306: FutureWarning: The min_impurity_split parameter is deprecated. Its default value has changed from 1e-7 to 0 in version 0.23, and it will be removed in 0.25. Use the min_impurity_decrease parameter instead.\n",
      "  warnings.warn(\"The min_impurity_split parameter is deprecated. \"\n",
      "C:\\Users\\User\\anaconda3\\lib\\site-packages\\sklearn\\tree\\_classes.py:306: FutureWarning: The min_impurity_split parameter is deprecated. Its default value has changed from 1e-7 to 0 in version 0.23, and it will be removed in 0.25. Use the min_impurity_decrease parameter instead.\n",
      "  warnings.warn(\"The min_impurity_split parameter is deprecated. \"\n",
      "C:\\Users\\User\\anaconda3\\lib\\site-packages\\sklearn\\tree\\_classes.py:306: FutureWarning: The min_impurity_split parameter is deprecated. Its default value has changed from 1e-7 to 0 in version 0.23, and it will be removed in 0.25. Use the min_impurity_decrease parameter instead.\n",
      "  warnings.warn(\"The min_impurity_split parameter is deprecated. \"\n",
      "C:\\Users\\User\\anaconda3\\lib\\site-packages\\sklearn\\tree\\_classes.py:306: FutureWarning: The min_impurity_split parameter is deprecated. Its default value has changed from 1e-7 to 0 in version 0.23, and it will be removed in 0.25. Use the min_impurity_decrease parameter instead.\n",
      "  warnings.warn(\"The min_impurity_split parameter is deprecated. \"\n",
      "C:\\Users\\User\\anaconda3\\lib\\site-packages\\sklearn\\tree\\_classes.py:306: FutureWarning: The min_impurity_split parameter is deprecated. Its default value has changed from 1e-7 to 0 in version 0.23, and it will be removed in 0.25. Use the min_impurity_decrease parameter instead.\n",
      "  warnings.warn(\"The min_impurity_split parameter is deprecated. \"\n",
      "C:\\Users\\User\\anaconda3\\lib\\site-packages\\sklearn\\tree\\_classes.py:306: FutureWarning: The min_impurity_split parameter is deprecated. Its default value has changed from 1e-7 to 0 in version 0.23, and it will be removed in 0.25. Use the min_impurity_decrease parameter instead.\n",
      "  warnings.warn(\"The min_impurity_split parameter is deprecated. \"\n",
      "C:\\Users\\User\\anaconda3\\lib\\site-packages\\sklearn\\tree\\_classes.py:306: FutureWarning: The min_impurity_split parameter is deprecated. Its default value has changed from 1e-7 to 0 in version 0.23, and it will be removed in 0.25. Use the min_impurity_decrease parameter instead.\n",
      "  warnings.warn(\"The min_impurity_split parameter is deprecated. \"\n",
      "C:\\Users\\User\\anaconda3\\lib\\site-packages\\sklearn\\tree\\_classes.py:306: FutureWarning: The min_impurity_split parameter is deprecated. Its default value has changed from 1e-7 to 0 in version 0.23, and it will be removed in 0.25. Use the min_impurity_decrease parameter instead.\n",
      "  warnings.warn(\"The min_impurity_split parameter is deprecated. \"\n",
      "C:\\Users\\User\\anaconda3\\lib\\site-packages\\sklearn\\tree\\_classes.py:306: FutureWarning: The min_impurity_split parameter is deprecated. Its default value has changed from 1e-7 to 0 in version 0.23, and it will be removed in 0.25. Use the min_impurity_decrease parameter instead.\n",
      "  warnings.warn(\"The min_impurity_split parameter is deprecated. \"\n",
      "C:\\Users\\User\\anaconda3\\lib\\site-packages\\sklearn\\tree\\_classes.py:306: FutureWarning: The min_impurity_split parameter is deprecated. Its default value has changed from 1e-7 to 0 in version 0.23, and it will be removed in 0.25. Use the min_impurity_decrease parameter instead.\n",
      "  warnings.warn(\"The min_impurity_split parameter is deprecated. \"\n",
      "C:\\Users\\User\\anaconda3\\lib\\site-packages\\sklearn\\tree\\_classes.py:306: FutureWarning: The min_impurity_split parameter is deprecated. Its default value has changed from 1e-7 to 0 in version 0.23, and it will be removed in 0.25. Use the min_impurity_decrease parameter instead.\n",
      "  warnings.warn(\"The min_impurity_split parameter is deprecated. \"\n",
      "C:\\Users\\User\\anaconda3\\lib\\site-packages\\sklearn\\tree\\_classes.py:306: FutureWarning: The min_impurity_split parameter is deprecated. Its default value has changed from 1e-7 to 0 in version 0.23, and it will be removed in 0.25. Use the min_impurity_decrease parameter instead.\n",
      "  warnings.warn(\"The min_impurity_split parameter is deprecated. \"\n",
      "C:\\Users\\User\\anaconda3\\lib\\site-packages\\sklearn\\tree\\_classes.py:306: FutureWarning: The min_impurity_split parameter is deprecated. Its default value has changed from 1e-7 to 0 in version 0.23, and it will be removed in 0.25. Use the min_impurity_decrease parameter instead.\n",
      "  warnings.warn(\"The min_impurity_split parameter is deprecated. \"\n",
      "C:\\Users\\User\\anaconda3\\lib\\site-packages\\sklearn\\tree\\_classes.py:306: FutureWarning: The min_impurity_split parameter is deprecated. Its default value has changed from 1e-7 to 0 in version 0.23, and it will be removed in 0.25. Use the min_impurity_decrease parameter instead.\n",
      "  warnings.warn(\"The min_impurity_split parameter is deprecated. \"\n",
      "C:\\Users\\User\\anaconda3\\lib\\site-packages\\sklearn\\tree\\_classes.py:306: FutureWarning: The min_impurity_split parameter is deprecated. Its default value has changed from 1e-7 to 0 in version 0.23, and it will be removed in 0.25. Use the min_impurity_decrease parameter instead.\n",
      "  warnings.warn(\"The min_impurity_split parameter is deprecated. \"\n",
      "C:\\Users\\User\\anaconda3\\lib\\site-packages\\sklearn\\tree\\_classes.py:306: FutureWarning: The min_impurity_split parameter is deprecated. Its default value has changed from 1e-7 to 0 in version 0.23, and it will be removed in 0.25. Use the min_impurity_decrease parameter instead.\n",
      "  warnings.warn(\"The min_impurity_split parameter is deprecated. \"\n",
      "C:\\Users\\User\\anaconda3\\lib\\site-packages\\sklearn\\tree\\_classes.py:306: FutureWarning: The min_impurity_split parameter is deprecated. Its default value has changed from 1e-7 to 0 in version 0.23, and it will be removed in 0.25. Use the min_impurity_decrease parameter instead.\n",
      "  warnings.warn(\"The min_impurity_split parameter is deprecated. \"\n",
      "C:\\Users\\User\\anaconda3\\lib\\site-packages\\sklearn\\tree\\_classes.py:306: FutureWarning: The min_impurity_split parameter is deprecated. Its default value has changed from 1e-7 to 0 in version 0.23, and it will be removed in 0.25. Use the min_impurity_decrease parameter instead.\n",
      "  warnings.warn(\"The min_impurity_split parameter is deprecated. \"\n",
      "C:\\Users\\User\\anaconda3\\lib\\site-packages\\sklearn\\tree\\_classes.py:306: FutureWarning: The min_impurity_split parameter is deprecated. Its default value has changed from 1e-7 to 0 in version 0.23, and it will be removed in 0.25. Use the min_impurity_decrease parameter instead.\n",
      "  warnings.warn(\"The min_impurity_split parameter is deprecated. \"\n",
      "C:\\Users\\User\\anaconda3\\lib\\site-packages\\sklearn\\tree\\_classes.py:306: FutureWarning: The min_impurity_split parameter is deprecated. Its default value has changed from 1e-7 to 0 in version 0.23, and it will be removed in 0.25. Use the min_impurity_decrease parameter instead.\n",
      "  warnings.warn(\"The min_impurity_split parameter is deprecated. \"\n",
      "C:\\Users\\User\\anaconda3\\lib\\site-packages\\sklearn\\tree\\_classes.py:306: FutureWarning: The min_impurity_split parameter is deprecated. Its default value has changed from 1e-7 to 0 in version 0.23, and it will be removed in 0.25. Use the min_impurity_decrease parameter instead.\n",
      "  warnings.warn(\"The min_impurity_split parameter is deprecated. \"\n",
      "C:\\Users\\User\\anaconda3\\lib\\site-packages\\sklearn\\tree\\_classes.py:306: FutureWarning: The min_impurity_split parameter is deprecated. Its default value has changed from 1e-7 to 0 in version 0.23, and it will be removed in 0.25. Use the min_impurity_decrease parameter instead.\n",
      "  warnings.warn(\"The min_impurity_split parameter is deprecated. \"\n",
      "C:\\Users\\User\\anaconda3\\lib\\site-packages\\sklearn\\tree\\_classes.py:306: FutureWarning: The min_impurity_split parameter is deprecated. Its default value has changed from 1e-7 to 0 in version 0.23, and it will be removed in 0.25. Use the min_impurity_decrease parameter instead.\n",
      "  warnings.warn(\"The min_impurity_split parameter is deprecated. \"\n",
      "C:\\Users\\User\\anaconda3\\lib\\site-packages\\sklearn\\tree\\_classes.py:306: FutureWarning: The min_impurity_split parameter is deprecated. Its default value has changed from 1e-7 to 0 in version 0.23, and it will be removed in 0.25. Use the min_impurity_decrease parameter instead.\n",
      "  warnings.warn(\"The min_impurity_split parameter is deprecated. \"\n",
      "C:\\Users\\User\\anaconda3\\lib\\site-packages\\sklearn\\tree\\_classes.py:306: FutureWarning: The min_impurity_split parameter is deprecated. Its default value has changed from 1e-7 to 0 in version 0.23, and it will be removed in 0.25. Use the min_impurity_decrease parameter instead.\n",
      "  warnings.warn(\"The min_impurity_split parameter is deprecated. \"\n",
      "C:\\Users\\User\\anaconda3\\lib\\site-packages\\sklearn\\tree\\_classes.py:306: FutureWarning: The min_impurity_split parameter is deprecated. Its default value has changed from 1e-7 to 0 in version 0.23, and it will be removed in 0.25. Use the min_impurity_decrease parameter instead.\n",
      "  warnings.warn(\"The min_impurity_split parameter is deprecated. \"\n",
      "C:\\Users\\User\\anaconda3\\lib\\site-packages\\sklearn\\tree\\_classes.py:306: FutureWarning: The min_impurity_split parameter is deprecated. Its default value has changed from 1e-7 to 0 in version 0.23, and it will be removed in 0.25. Use the min_impurity_decrease parameter instead.\n",
      "  warnings.warn(\"The min_impurity_split parameter is deprecated. \"\n",
      "C:\\Users\\User\\anaconda3\\lib\\site-packages\\sklearn\\tree\\_classes.py:306: FutureWarning: The min_impurity_split parameter is deprecated. Its default value has changed from 1e-7 to 0 in version 0.23, and it will be removed in 0.25. Use the min_impurity_decrease parameter instead.\n",
      "  warnings.warn(\"The min_impurity_split parameter is deprecated. \"\n",
      "C:\\Users\\User\\anaconda3\\lib\\site-packages\\sklearn\\tree\\_classes.py:306: FutureWarning: The min_impurity_split parameter is deprecated. Its default value has changed from 1e-7 to 0 in version 0.23, and it will be removed in 0.25. Use the min_impurity_decrease parameter instead.\n",
      "  warnings.warn(\"The min_impurity_split parameter is deprecated. \"\n",
      "C:\\Users\\User\\anaconda3\\lib\\site-packages\\sklearn\\tree\\_classes.py:306: FutureWarning: The min_impurity_split parameter is deprecated. Its default value has changed from 1e-7 to 0 in version 0.23, and it will be removed in 0.25. Use the min_impurity_decrease parameter instead.\n",
      "  warnings.warn(\"The min_impurity_split parameter is deprecated. \"\n",
      "C:\\Users\\User\\anaconda3\\lib\\site-packages\\sklearn\\tree\\_classes.py:306: FutureWarning: The min_impurity_split parameter is deprecated. Its default value has changed from 1e-7 to 0 in version 0.23, and it will be removed in 0.25. Use the min_impurity_decrease parameter instead.\n",
      "  warnings.warn(\"The min_impurity_split parameter is deprecated. \"\n",
      "C:\\Users\\User\\anaconda3\\lib\\site-packages\\sklearn\\tree\\_classes.py:306: FutureWarning: The min_impurity_split parameter is deprecated. Its default value has changed from 1e-7 to 0 in version 0.23, and it will be removed in 0.25. Use the min_impurity_decrease parameter instead.\n",
      "  warnings.warn(\"The min_impurity_split parameter is deprecated. \"\n",
      "C:\\Users\\User\\anaconda3\\lib\\site-packages\\sklearn\\tree\\_classes.py:306: FutureWarning: The min_impurity_split parameter is deprecated. Its default value has changed from 1e-7 to 0 in version 0.23, and it will be removed in 0.25. Use the min_impurity_decrease parameter instead.\n",
      "  warnings.warn(\"The min_impurity_split parameter is deprecated. \"\n",
      "C:\\Users\\User\\anaconda3\\lib\\site-packages\\sklearn\\tree\\_classes.py:306: FutureWarning: The min_impurity_split parameter is deprecated. Its default value has changed from 1e-7 to 0 in version 0.23, and it will be removed in 0.25. Use the min_impurity_decrease parameter instead.\n",
      "  warnings.warn(\"The min_impurity_split parameter is deprecated. \"\n",
      "C:\\Users\\User\\anaconda3\\lib\\site-packages\\sklearn\\tree\\_classes.py:306: FutureWarning: The min_impurity_split parameter is deprecated. Its default value has changed from 1e-7 to 0 in version 0.23, and it will be removed in 0.25. Use the min_impurity_decrease parameter instead.\n",
      "  warnings.warn(\"The min_impurity_split parameter is deprecated. \"\n",
      "C:\\Users\\User\\anaconda3\\lib\\site-packages\\sklearn\\tree\\_classes.py:306: FutureWarning: The min_impurity_split parameter is deprecated. Its default value has changed from 1e-7 to 0 in version 0.23, and it will be removed in 0.25. Use the min_impurity_decrease parameter instead.\n",
      "  warnings.warn(\"The min_impurity_split parameter is deprecated. \"\n"
     ]
    },
    {
     "data": {
      "text/plain": [
       "RandomForestClassifier(min_impurity_split=0.1, n_jobs=-1)"
      ]
     },
     "execution_count": 119,
     "metadata": {},
     "output_type": "execute_result"
    }
   ],
   "source": [
    "forest = RandomForestClassifier(n_estimators = 100, min_impurity_split =0.1, n_jobs = -1)\n",
    "forest.fit(X_train, y_train)"
   ]
  },
  {
   "cell_type": "code",
   "execution_count": 13,
   "metadata": {},
   "outputs": [
    {
     "name": "stdout",
     "output_type": "stream",
     "text": [
      "[4.8923083  2.46635032 1.42809973 1.01233462 0.84906459 0.60181514\n",
      " 0.52251546 0.08414846 0.33051429 0.29595018 0.16831254 0.21432212\n",
      " 0.2399553 ]\n"
     ]
    }
   ],
   "source": [
    "cov_mat =np.cov(X_train_std.T)\n",
    "eigen_vals, eigen_vecs = np.linalg.eig(cov_mat)\n",
    "print(eigen_vals)"
   ]
  },
  {
   "cell_type": "code",
   "execution_count": 17,
   "metadata": {},
   "outputs": [
    {
     "data": {
      "text/plain": [
       "<matplotlib.lines.Line2D at 0xcf3bb68>"
      ]
     },
     "execution_count": 17,
     "metadata": {},
     "output_type": "execute_result"
    },
    {
     "data": {
      "image/png": "[encoded data removed]",
      "text/plain": [
       "<Figure size 432x288 with 1 Axes>"
      ]
     },
     "metadata": {
      "needs_background": "light"
     },
     "output_type": "display_data"
    }
   ],
   "source": [
    "tot = sum(eigen_vals)\n",
    "var_exp = [(i/  tot) for i in sorted(eigen_vals, reverse=True)]\n",
    "cum_var_exp =np.cumsum(var_exp)\n",
    "plt.bar(range(1,14), var_exp, align = 'center')\n",
    "plt.step(range(1,14) , cum_var_exp, where = 'mid', alpha = 0.5)\n",
    "plt.axhline(0.6 , color = \"red\" , linestyle = ':', linewidth = '1')"
   ]
  },
  {
   "cell_type": "code",
   "execution_count": 20,
   "metadata": {},
   "outputs": [
    {
     "name": "stdout",
     "output_type": "stream",
     "text": [
      "[[ 0.14669811 -0.50417079]\n",
      " [-0.24224554 -0.24216889]\n",
      " [-0.02993442 -0.28698484]\n",
      " [-0.25519002  0.06468718]\n",
      " [ 0.12079772 -0.22995385]\n",
      " [ 0.38934455 -0.09363991]\n",
      " [ 0.42326486 -0.01088622]\n",
      " [-0.30634956 -0.01870216]\n",
      " [ 0.30572219 -0.03040352]\n",
      " [-0.09869191 -0.54527081]\n",
      " [ 0.30032535  0.27924322]\n",
      " [ 0.36821154  0.174365  ]\n",
      " [ 0.29259713 -0.36315461]]\n"
     ]
    }
   ],
   "source": [
    "eigen_pairs = [(np.abs(eigen_vals[i]) , eigen_vecs[:,i]) for i in range(len(eigen_vals))]\n",
    "eigen_pairs.sort(reverse = True)\n",
    "w = np.hstack((eigen_pairs[0][1][:, np.newaxis],eigen_pairs[1][1][:, np.newaxis]))\n",
    "print(w)"
   ]
  },
  {
   "cell_type": "code",
   "execution_count": 22,
   "metadata": {},
   "outputs": [
    {
     "data": {
      "text/plain": [
       "array([ 2.59891628, -0.00484089])"
      ]
     },
     "execution_count": 22,
     "metadata": {},
     "output_type": "execute_result"
    }
   ],
   "source": [
    "X_train_std[0].dot(w)"
   ]
  },
  {
   "cell_type": "code",
   "execution_count": 25,
   "metadata": {},
   "outputs": [
    {
     "name": "stdout",
     "output_type": "stream",
     "text": [
      "[[ 2.59891628 -0.00484089]\n",
      " [ 0.15819134  2.26659577]\n",
      " [-2.6372337  -2.66488569]\n",
      " [-2.52848449 -0.51846618]\n",
      " [ 1.70922581  0.91719459]\n",
      " [-2.83057003 -0.41936129]\n",
      " [-2.82251879 -1.99763147]\n",
      " [ 1.36618015 -0.04639099]\n",
      " [-2.46584868  0.07932269]\n",
      " [-2.28554906  0.40096658]\n",
      " [ 1.14246632  2.39587633]\n",
      " [-2.28497881  1.09274988]\n",
      " [-2.52924945 -0.6477328 ]\n",
      " [ 0.169245    1.1264982 ]\n",
      " [ 2.53088166 -1.05798498]\n",
      " [-0.71596964  2.80365836]\n",
      " [ 2.46922033  0.15871191]\n",
      " [-0.58044574  0.69290749]\n",
      " [ 0.54583852 -0.41042188]\n",
      " [ 3.5604963  -1.42561284]\n",
      " [ 1.58679826  1.51260121]\n",
      " [ 2.54872139  0.05280515]\n",
      " [-3.59338727 -0.88321901]\n",
      " [-1.60406659 -2.40373662]\n",
      " [ 1.48668426  1.40863724]\n",
      " [ 0.00830468  2.04898307]\n",
      " [-0.15646658  2.80278355]\n",
      " [-2.39863877 -2.47524175]\n",
      " [-3.13549157  0.29421321]\n",
      " [ 3.30221023 -0.40939296]\n",
      " [-3.53069904 -1.79971521]\n",
      " [-0.45566459  2.61242833]\n",
      " [-0.58840115  1.98301934]\n",
      " [-1.16637216  0.83784744]\n",
      " [ 1.03763587  1.37755233]\n",
      " [ 1.95890184  1.62578024]\n",
      " [ 2.76990407 -1.86073384]\n",
      " [ 2.06150478 -1.32280528]\n",
      " [ 0.84107017  2.00894711]\n",
      " [ 3.52522122 -1.41880443]\n",
      " [-3.82504747 -0.11741931]\n",
      " [ 1.70427554  0.46267479]\n",
      " [-3.44482795 -0.89793105]\n",
      " [ 3.14119715 -0.80251074]\n",
      " [ 2.34148171 -1.69991384]\n",
      " [ 1.25162098  0.91305357]\n",
      " [ 3.57847538 -1.78146353]\n",
      " [ 0.93052986  2.26747372]\n",
      " [ 0.50457042  1.9619121 ]\n",
      " [ 3.82251943 -2.88150786]\n",
      " [-2.3761711  -2.15480504]\n",
      " [-1.55524357  1.38425679]\n",
      " [ 2.51130377 -1.33358811]\n",
      " [-0.72998664  0.21814915]\n",
      " [-0.77183165  2.39360847]\n",
      " [ 0.84583296  1.51455514]\n",
      " [-1.26515775 -0.04977931]\n",
      " [ 2.20903303 -0.85715074]\n",
      " [-3.89082853 -0.54194575]\n",
      " [-1.8063292  -1.31606219]\n",
      " [ 4.37183355 -2.33594051]\n",
      " [ 3.31126031 -1.43233851]\n",
      " [-1.53830238  1.9287237 ]\n",
      " [-2.72256164 -2.15319971]\n",
      " [ 2.81726412 -1.3810016 ]\n",
      " [ 1.85165682 -0.74908527]\n",
      " [-0.45023913  2.16233055]\n",
      " [-0.10551849  1.20083745]\n",
      " [ 1.96348867 -0.21556727]\n",
      " [ 2.23499535 -1.29680173]\n",
      " [ 0.81061036 -0.32968368]\n",
      " [-3.28947263 -2.24576835]\n",
      " [ 0.92542109  0.76230572]\n",
      " [ 2.3186051   0.12948205]\n",
      " [ 0.79856144  1.42131736]\n",
      " [-2.27737367 -0.55018386]\n",
      " [ 3.14731552 -1.31152545]\n",
      " [-1.73268901  1.77855936]\n",
      " [-2.85178367 -0.15732478]\n",
      " [-2.682777   -0.33277815]\n",
      " [ 1.93435789 -1.6156844 ]\n",
      " [ 1.61938048  0.63200211]\n",
      " [-2.04371299 -0.31389153]\n",
      " [ 2.25520575 -1.89312658]\n",
      " [-2.32821566 -0.18612349]\n",
      " [-0.41435801  1.98875351]\n",
      " [ 1.44705447 -0.66672748]\n",
      " [ 2.19851825 -0.68997732]\n",
      " [-0.42257991  1.94397583]\n",
      " [ 2.76213322 -1.54543423]\n",
      " [-2.84540302 -1.94250398]\n",
      " [-1.5915982   1.41522865]\n",
      " [-3.35600644 -1.14127988]\n",
      " [ 1.67829924 -0.10816612]\n",
      " [-2.94150833 -0.3885073 ]\n",
      " [-2.30405629 -2.15027517]\n",
      " [-3.49291623 -1.29239829]\n",
      " [ 2.33527547 -0.3435751 ]\n",
      " [ 1.46219731  2.05255915]\n",
      " [-0.43118871  2.4048574 ]\n",
      " [ 0.42256584  1.05544618]\n",
      " [ 0.52658784  3.87214144]\n",
      " [-2.72797263 -1.58306403]\n",
      " [-3.17868679 -2.71193573]\n",
      " [-0.62158919  1.0446325 ]\n",
      " [-1.40436141  1.47634167]\n",
      " [ 0.91169846 -0.65475647]\n",
      " [ 1.12423581  1.34653907]\n",
      " [-2.84547545 -1.32732299]\n",
      " [-2.36335963 -2.43164111]\n",
      " [ 2.54578547 -1.85201533]\n",
      " [ 3.21543609 -1.84137496]\n",
      " [-2.74703277 -0.19539224]\n",
      " [-1.05186423  1.83455849]\n",
      " [-1.50826783  0.99164925]\n",
      " [-0.53471293  2.50577398]\n",
      " [ 1.40057023 -0.66105221]\n",
      " [ 1.10794215 -0.24580628]\n",
      " [ 2.83487283 -0.95812357]\n",
      " [-0.52771371  2.59472825]\n",
      " [ 0.31128129  2.28677331]\n",
      " [-0.06526682  2.04360861]\n",
      " [ 2.91835495 -0.82035658]\n",
      " [-2.40719925 -2.23612256]]\n"
     ]
    }
   ],
   "source": [
    "X_train_pca = X_train_std.dot(w)\n",
    "print(X_train_pca)"
   ]
  },
  {
   "cell_type": "code",
   "execution_count": 32,
   "metadata": {},
   "outputs": [
    {
     "data": {
      "image/png": "[encoded data removed]",
      "text/plain": [
       "<Figure size 432x288 with 1 Axes>"
      ]
     },
     "metadata": {
      "needs_background": "light"
     },
     "output_type": "display_data"
    }
   ],
   "source": [
    "colors= ['red', 'blue', 'green']\n",
    "markers = [ 'x' , 'o' , 's']\n",
    "for l,c,m in zip(np.unique(y_train), colors, markers):\n",
    "    plt.scatter(X_train_pca[y_train == l, 0], X_train_pca[y_train == l, 1], c=c, label=l, marker=m)\n"
   ]
  },
  {
   "cell_type": "code",
   "execution_count": 40,
   "metadata": {},
   "outputs": [],
   "source": [
    "from matplotlib.colors import ListedColormap\n",
    "def plot_decision_regions(X, y ,classifier, resolution = 0.02):\n",
    "    \n",
    "    markers = ('x' , 'o' , 's')\n",
    "    colors = ('red', 'blue', 'green')\n",
    "    cmap = ListedColormap(colors[:len(np.unique(y))])\n",
    "    \n",
    "    x1_min , x1_max = X[:, 0].min() - 1 , X[:, 0].max() + 1\n",
    "    x2_min , x2_max = X[:, 1].min() - 1 , X[:, 1].max() + 1\n",
    "    xx1, xx2 = np.meshgrid(np.arange(x1_min, x1_max, resolution) ,np.arange(x2_min, x2_max, resolution))\n",
    "    \n",
    "    Z =classifier.predict(np.array([xx1.ravel() , xx2.ravel()]).T)\n",
    "    Z = Z.reshape(xx1.shape)\n",
    "    \n",
    "    plt.contourf(xx1, xx2, Z, alpha = 0.4, cmap = cmap)\n",
    "    plt.xlim(xx1.min(), xx1.max())\n",
    "    plt.ylim(xx2.min(), xx2.max())\n",
    "    \n",
    "    for idx, cl in enumerate(np.unique(y)):\n",
    "        plt.scatter(x = X[y == cl, 0] , y = X[y == cl, 1],\n",
    "            alpha = 0.8, c = cmap(idx), marker = markers[idx], label = cl)\n"
   ]
  },
  {
   "cell_type": "code",
   "execution_count": 58,
   "metadata": {},
   "outputs": [
    {
     "name": "stderr",
     "output_type": "stream",
     "text": [
      "*c* argument looks like a single numeric RGB or RGBA sequence, which should be avoided as value-mapping will have precedence in case its length matches with *x* & *y*.  Please use the *color* keyword-argument or provide a 2-D array with a single row if you intend to specify the same RGB or RGBA value for all points.\n",
      "*c* argument looks like a single numeric RGB or RGBA sequence, which should be avoided as value-mapping will have precedence in case its length matches with *x* & *y*.  Please use the *color* keyword-argument or provide a 2-D array with a single row if you intend to specify the same RGB or RGBA value for all points.\n",
      "*c* argument looks like a single numeric RGB or RGBA sequence, which should be avoided as value-mapping will have precedence in case its length matches with *x* & *y*.  Please use the *color* keyword-argument or provide a 2-D array with a single row if you intend to specify the same RGB or RGBA value for all points.\n"
     ]
    },
    {
     "data": {
      "image/png": "[encoded data removed]",
      "text/plain": [
       "<Figure size 432x288 with 1 Axes>"
      ]
     },
     "metadata": {
      "needs_background": "light"
     },
     "output_type": "display_data"
    }
   ],
   "source": [
    "from sklearn.linear_model import LogisticRegression\n",
    "from sklearn.decomposition import PCA\n",
    "pca = PCA(n_components=2)\n",
    "lr = LogisticRegression()\n",
    "X_train_pca = pca.fit_transform(X_train_std)\n",
    "X_test_pca = pca.transform(X_test_std)\n",
    "lr.fit(X_train_pca, y_train)\n",
    "plot_decision_regions(X_train_pca, y_train, classifier = lr)\n",
    "plt.show()"
   ]
  },
  {
   "cell_type": "code",
   "execution_count": 59,
   "metadata": {},
   "outputs": [
    {
     "name": "stderr",
     "output_type": "stream",
     "text": [
      "*c* argument looks like a single numeric RGB or RGBA sequence, which should be avoided as value-mapping will have precedence in case its length matches with *x* & *y*.  Please use the *color* keyword-argument or provide a 2-D array with a single row if you intend to specify the same RGB or RGBA value for all points.\n",
      "*c* argument looks like a single numeric RGB or RGBA sequence, which should be avoided as value-mapping will have precedence in case its length matches with *x* & *y*.  Please use the *color* keyword-argument or provide a 2-D array with a single row if you intend to specify the same RGB or RGBA value for all points.\n",
      "*c* argument looks like a single numeric RGB or RGBA sequence, which should be avoided as value-mapping will have precedence in case its length matches with *x* & *y*.  Please use the *color* keyword-argument or provide a 2-D array with a single row if you intend to specify the same RGB or RGBA value for all points.\n"
     ]
    },
    {
     "data": {
      "image/png": "[encoded data removed]",
      "text/plain": [
       "<Figure size 432x288 with 1 Axes>"
      ]
     },
     "metadata": {
      "needs_background": "light"
     },
     "output_type": "display_data"
    }
   ],
   "source": [
    "plot_decision_regions(X_test_pca, y_test, classifier = lr)"
   ]
  }
 ],
 "metadata": {
  "kernelspec": {
   "display_name": "Python 3",
   "language": "python",
   "name": "python3"
  },
  "language_info": {
   "codemirror_mode": {
    "name": "ipython",
    "version": 3
   },
   "file_extension": ".py",
   "mimetype": "text/x-python",
   "name": "python",
   "nbconvert_exporter": "python",
   "pygments_lexer": "ipython3",
   "version": "3.8.3"
  }
 },
 "nbformat": 4,
 "nbformat_minor": 4
}
